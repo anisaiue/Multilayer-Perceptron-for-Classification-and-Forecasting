{
  "nbformat": 4,
  "nbformat_minor": 0,
  "metadata": {
    "colab": {
      "name": "Forecasting JST.ipynb",
      "provenance": [],
      "collapsed_sections": [
        "FQ74Gta5uXNk",
        "1GMngvVpaiZX",
        "s2npwC9qhKXF"
      ],
      "toc_visible": true
    },
    "kernelspec": {
      "display_name": "Python 3",
      "language": "python",
      "name": "python3"
    },
    "language_info": {
      "codemirror_mode": {
        "name": "ipython",
        "version": 3
      },
      "file_extension": ".py",
      "mimetype": "text/x-python",
      "name": "python",
      "nbconvert_exporter": "python",
      "pygments_lexer": "ipython3",
      "version": "3.7.4"
    }
  },
  "cells": [
    {
      "cell_type": "markdown",
      "metadata": {
        "id": "Ws_t_RzzuW_O"
      },
      "source": [
        "**Warning**: seperti biasa temen-temen, save di drive masing-masing dulu yaa\n",
        "\n",
        "Download dataset di sini:\n",
        "[Dataset Ekspor](https://drive.google.com/file/d/1uuq7QrgHyozgy31G3AoINHNtTLL7BMv2/view?usp=sharing) bagi yang belum mendownload dataset\n",
        "\n",
        "\n",
        "\n",
        "\n",
        "\n",
        "\n",
        "\n",
        "\n",
        "\n"
      ]
    },
    {
      "cell_type": "code",
      "metadata": {
        "id": "STciISaVuW_g"
      },
      "source": [
        "# Basic library yang digunakan\n",
        "import itertools\n",
        "import pandas as pd\n",
        "import numpy as np\n",
        "%matplotlib inline\n",
        "from matplotlib import pyplot as plt\n",
        "import seaborn as sns\n",
        "import os"
      ],
      "execution_count": 1,
      "outputs": []
    },
    {
      "cell_type": "markdown",
      "metadata": {
        "id": "zY9kkD6yuW_2"
      },
      "source": [
        "Berikut ini untuk proses pembuatan ts data. Kalau di R ya fungsi ts(). Diskip juga boleh sebenarnya, kalau tidak mau membentuk data time series bisa langsung run cell code ke-3 untuk mengimport data"
      ]
    },
    {
      "cell_type": "code",
      "metadata": {
        "id": "rUT-ydRJuXAB",
        "colab": {
          "base_uri": "https://localhost:8080/"
        },
        "outputId": "0efe4f2f-434d-4f51-e100-662485c5cb24"
      },
      "source": [
        "# Proses membangkitkan data waktu (Boleh diskip)\n",
        "dates = pd.date_range('20000101',periods=249,freq='MS')\n",
        "dates"
      ],
      "execution_count": 6,
      "outputs": [
        {
          "output_type": "execute_result",
          "data": {
            "text/plain": [
              "DatetimeIndex(['2000-01-01', '2000-02-01', '2000-03-01', '2000-04-01',\n",
              "               '2000-05-01', '2000-06-01', '2000-07-01', '2000-08-01',\n",
              "               '2000-09-01', '2000-10-01',\n",
              "               ...\n",
              "               '2019-12-01', '2020-01-01', '2020-02-01', '2020-03-01',\n",
              "               '2020-04-01', '2020-05-01', '2020-06-01', '2020-07-01',\n",
              "               '2020-08-01', '2020-09-01'],\n",
              "              dtype='datetime64[ns]', length=249, freq='MS')"
            ]
          },
          "metadata": {
            "tags": []
          },
          "execution_count": 6
        }
      ]
    },
    {
      "cell_type": "code",
      "metadata": {
        "id": "ceouqgQVuXAx",
        "colab": {
          "base_uri": "https://localhost:8080/",
          "height": 137
        },
        "outputId": "8d23bb8b-7f25-4787-c730-efffd2200f8c"
      },
      "source": [
        "#Jika menggunakan format Excel Workbook, sesuaikan nama file, langsung run\n",
        "df=pd.read_excel('Data Eskpor.xlsx')\n",
        "\n",
        "# Jika menggunakan format csv, hilangkan tanda # di bawah ini, dan beri tanda # di depan sintaks untuk excel workbook \n",
        "#df=pd.read_csv('Data Ekspor.csv', delimiter=',')\n",
        "\n",
        "# Memanggil data terbawah (default=5)\n",
        "df.tail(3)"
      ],
      "execution_count": 4,
      "outputs": [
        {
          "output_type": "execute_result",
          "data": {
            "text/html": [
              "<div>\n",
              "<style scoped>\n",
              "    .dataframe tbody tr th:only-of-type {\n",
              "        vertical-align: middle;\n",
              "    }\n",
              "\n",
              "    .dataframe tbody tr th {\n",
              "        vertical-align: top;\n",
              "    }\n",
              "\n",
              "    .dataframe thead th {\n",
              "        text-align: right;\n",
              "    }\n",
              "</style>\n",
              "<table border=\"1\" class=\"dataframe\">\n",
              "  <thead>\n",
              "    <tr style=\"text-align: right;\">\n",
              "      <th></th>\n",
              "      <th>Ekspor</th>\n",
              "    </tr>\n",
              "  </thead>\n",
              "  <tbody>\n",
              "    <tr>\n",
              "      <th>246</th>\n",
              "      <td>152.3</td>\n",
              "    </tr>\n",
              "    <tr>\n",
              "      <th>247</th>\n",
              "      <td>153.8</td>\n",
              "    </tr>\n",
              "    <tr>\n",
              "      <th>248</th>\n",
              "      <td>151.3</td>\n",
              "    </tr>\n",
              "  </tbody>\n",
              "</table>\n",
              "</div>"
            ],
            "text/plain": [
              "     Ekspor\n",
              "246   152.3\n",
              "247   153.8\n",
              "248   151.3"
            ]
          },
          "metadata": {
            "tags": []
          },
          "execution_count": 4
        }
      ]
    },
    {
      "cell_type": "code",
      "metadata": {
        "id": "zFJdJlf8uXB0",
        "colab": {
          "base_uri": "https://localhost:8080/",
          "height": 197
        },
        "outputId": "43d58058-97d1-4c9b-ab9b-9e6c1d18a49c"
      },
      "source": [
        "#Menyatukan data waktu ke dataframe yang ada, dengan menambah kolom 'date' (Boleh diskip)\n",
        "\n",
        "df['date']=pd.DataFrame(dates)\n",
        "df.head()"
      ],
      "execution_count": 7,
      "outputs": [
        {
          "output_type": "execute_result",
          "data": {
            "text/html": [
              "<div>\n",
              "<style scoped>\n",
              "    .dataframe tbody tr th:only-of-type {\n",
              "        vertical-align: middle;\n",
              "    }\n",
              "\n",
              "    .dataframe tbody tr th {\n",
              "        vertical-align: top;\n",
              "    }\n",
              "\n",
              "    .dataframe thead th {\n",
              "        text-align: right;\n",
              "    }\n",
              "</style>\n",
              "<table border=\"1\" class=\"dataframe\">\n",
              "  <thead>\n",
              "    <tr style=\"text-align: right;\">\n",
              "      <th></th>\n",
              "      <th>Ekspor</th>\n",
              "      <th>date</th>\n",
              "    </tr>\n",
              "  </thead>\n",
              "  <tbody>\n",
              "    <tr>\n",
              "      <th>0</th>\n",
              "      <td>39.6</td>\n",
              "      <td>2000-01-01</td>\n",
              "    </tr>\n",
              "    <tr>\n",
              "      <th>1</th>\n",
              "      <td>41.2</td>\n",
              "      <td>2000-02-01</td>\n",
              "    </tr>\n",
              "    <tr>\n",
              "      <th>2</th>\n",
              "      <td>42.4</td>\n",
              "      <td>2000-03-01</td>\n",
              "    </tr>\n",
              "    <tr>\n",
              "      <th>3</th>\n",
              "      <td>42.4</td>\n",
              "      <td>2000-04-01</td>\n",
              "    </tr>\n",
              "    <tr>\n",
              "      <th>4</th>\n",
              "      <td>46.0</td>\n",
              "      <td>2000-05-01</td>\n",
              "    </tr>\n",
              "  </tbody>\n",
              "</table>\n",
              "</div>"
            ],
            "text/plain": [
              "   Ekspor       date\n",
              "0    39.6 2000-01-01\n",
              "1    41.2 2000-02-01\n",
              "2    42.4 2000-03-01\n",
              "3    42.4 2000-04-01\n",
              "4    46.0 2000-05-01"
            ]
          },
          "metadata": {
            "tags": []
          },
          "execution_count": 7
        }
      ]
    },
    {
      "cell_type": "code",
      "metadata": {
        "id": "8qO1cGu-uXCL",
        "colab": {
          "base_uri": "https://localhost:8080/",
          "height": 227
        },
        "outputId": "f3bdbb43-f812-4e19-cc52-aaa44c3974b0"
      },
      "source": [
        "# Setting indeks menjadi indeks runtun waktu (Boleh diskip)\n",
        "\n",
        "ts_df=df.set_index('date')\n",
        "ts_df.head()"
      ],
      "execution_count": 8,
      "outputs": [
        {
          "output_type": "execute_result",
          "data": {
            "text/html": [
              "<div>\n",
              "<style scoped>\n",
              "    .dataframe tbody tr th:only-of-type {\n",
              "        vertical-align: middle;\n",
              "    }\n",
              "\n",
              "    .dataframe tbody tr th {\n",
              "        vertical-align: top;\n",
              "    }\n",
              "\n",
              "    .dataframe thead th {\n",
              "        text-align: right;\n",
              "    }\n",
              "</style>\n",
              "<table border=\"1\" class=\"dataframe\">\n",
              "  <thead>\n",
              "    <tr style=\"text-align: right;\">\n",
              "      <th></th>\n",
              "      <th>Ekspor</th>\n",
              "    </tr>\n",
              "    <tr>\n",
              "      <th>date</th>\n",
              "      <th></th>\n",
              "    </tr>\n",
              "  </thead>\n",
              "  <tbody>\n",
              "    <tr>\n",
              "      <th>2000-01-01</th>\n",
              "      <td>39.6</td>\n",
              "    </tr>\n",
              "    <tr>\n",
              "      <th>2000-02-01</th>\n",
              "      <td>41.2</td>\n",
              "    </tr>\n",
              "    <tr>\n",
              "      <th>2000-03-01</th>\n",
              "      <td>42.4</td>\n",
              "    </tr>\n",
              "    <tr>\n",
              "      <th>2000-04-01</th>\n",
              "      <td>42.4</td>\n",
              "    </tr>\n",
              "    <tr>\n",
              "      <th>2000-05-01</th>\n",
              "      <td>46.0</td>\n",
              "    </tr>\n",
              "  </tbody>\n",
              "</table>\n",
              "</div>"
            ],
            "text/plain": [
              "            Ekspor\n",
              "date              \n",
              "2000-01-01    39.6\n",
              "2000-02-01    41.2\n",
              "2000-03-01    42.4\n",
              "2000-04-01    42.4\n",
              "2000-05-01    46.0"
            ]
          },
          "metadata": {
            "tags": []
          },
          "execution_count": 8
        }
      ]
    },
    {
      "cell_type": "markdown",
      "metadata": {
        "id": "aImWf5C5uXCa"
      },
      "source": [
        "**Plot Time Series**"
      ]
    },
    {
      "cell_type": "code",
      "metadata": {
        "id": "rZuWjLSPuXCd",
        "colab": {
          "base_uri": "https://localhost:8080/",
          "height": 325
        },
        "outputId": "38f78f67-0530-4bd0-ed5f-9061e7c529e2"
      },
      "source": [
        "#Plot Time Series ini jika tidak dilakukan prosen pengindeksan runtun waktu, maka variabel Y hanya berupa urutan observasi\n",
        "\n",
        "fig=plt.figure()\n",
        "plt.plot(ts_df['Ekspor'])\n",
        "fig.suptitle('Time Series Plot of Ekspor')\n",
        "plt.xlabel('Date')\n",
        "plt.ylabel('Ekspor')"
      ],
      "execution_count": 9,
      "outputs": [
        {
          "output_type": "execute_result",
          "data": {
            "text/plain": [
              "Text(0, 0.5, 'Ekspor')"
            ]
          },
          "metadata": {
            "tags": []
          },
          "execution_count": 9
        },
        {
          "output_type": "display_data",
          "data": {
            "image/png": "[encoded data removed]",
            "text/plain": [
              "<Figure size 432x288 with 1 Axes>"
            ]
          },
          "metadata": {
            "tags": [],
            "needs_background": "light"
          }
        }
      ]
    },
    {
      "cell_type": "markdown",
      "metadata": {
        "id": "2SQe21OCuXL9"
      },
      "source": [
        "# Membuat input dan target"
      ]
    },
    {
      "cell_type": "code",
      "metadata": {
        "colab": {
          "base_uri": "https://localhost:8080/",
          "height": 600
        },
        "id": "DzC3fbLY-ZKQ",
        "outputId": "4727120f-aa81-45ed-abf9-7264faf9bd89"
      },
      "source": [
        "# Plot ACF dan PACF\n",
        "import statsmodels.api as sm\n",
        "\n",
        "sm.graphics.tsa.plot_acf(df[['Ekspor']])\n",
        "sm.graphics.tsa.plot_pacf(df[['Ekspor']])\n",
        "plt.show()"
      ],
      "execution_count": 10,
      "outputs": [
        {
          "output_type": "stream",
          "text": [
            "/usr/local/lib/python3.6/dist-packages/statsmodels/tools/_testing.py:19: FutureWarning: pandas.util.testing is deprecated. Use the functions in the public API at pandas.testing instead.\n",
            "  import pandas.util.testing as tm\n"
          ],
          "name": "stderr"
        },
        {
          "output_type": "display_data",
          "data": {
            "image/png": "[encoded data removed]",
            "text/plain": [
              "<Figure size 432x288 with 1 Axes>"
            ]
          },
          "metadata": {
            "tags": [],
            "needs_background": "light"
          }
        },
        {
          "output_type": "display_data",
          "data": {
            "image/png": "[encoded data removed]",
            "text/plain": [
              "<Figure size 432x288 with 1 Axes>"
            ]
          },
          "metadata": {
            "tags": [],
            "needs_background": "light"
          }
        }
      ]
    },
    {
      "cell_type": "markdown",
      "metadata": {
        "id": "KDjtch6zHGzJ"
      },
      "source": [
        "Apabila lag yang keluar dari batas signifikan di awal berjumlah 3, maka look back yang digunakan sebesar 3.\n",
        "Nantinya variabel input kan berjumlah 3, dan banyak observasi juga berkurang 3. Berikut ilustrasi perubahan data pada look back = 3\n",
        "\n",
        "Data awal\n",
        "\n",
        "![image.png](data:image/png;base64,iVBORw0KGgoAAAANSUhEUgAAAEkAAACoCAYAAACsa8P7AAAFc0lEQVR4Ae2dUZKkIAyGOZcH8jyexpPMWx+GraAhoATTNdMSt3+rtogkvcJHQA3IhLgfPz8/LCI9MAlMJIQQ8e/MgPgA0oVzUA+rILFXIY25V508CXCEAA89gCRMThIgnZCcMwDpzOSUMx7SOscwLfF1KpqfjEdBei1TDPN6Oz1AMiC/H9JriVN+aJvishy6W6UPcXOcV1ym+gl4WvYO2rQ31PwNk5shbZXNFYxrnAlYHpPWOGc5xtS9judVd+vbv8Gha3ovpNTqc6xGld7AfbC/HJMO9t2av6G8FxIBCX1ICUTujtTFxL4FqWf/Boeu6b2QWi1detIR4sH+BOnCvlvzN5T3QtrHoDwmJQjFmHSo9Do3PKkYo+KF/RscuqY3Q4o0Ghd3tzmudF5UfAOz3cmmZYlz0d3K3zLorn236nbl/ZDsZXNjCUiGpgAkQDIQMJionsQKpPI6RDyrGDfgCBxmgYmATrdjSCdP6vzm61SAZGhyQAIkAwGDCTzpf4DEL7D8Qmuo05+b+PYkCoVMc5ynEAGp2fZbPHxej3HxpvFHM916kkQhAantAVXYFpAakLibsQqQmESR7nNx1YzJ/rJZhHmLH3xcdDsmSc3hScJClQBJReNJ8YDuNh4XIBnaAJB+A4npIZVYN2LcHY9iRyGTarak85uvUwGSockBCZAMBAwm8KTnQtre17gFU1qtujXU7A9NuBz0Xzq6u22QBnKpEANShaN94hoSFy6EKfIHAO1qfDaXy0FXcdTd6kpva7VlPXet/fzZIyDFfWnzqDHqGZDS7Mm4LucS0jrXQNJU96BJgDQO7ZMSSebeTeSGHmmlv4Qo5CumMaVy6UljUOhXBSSdTdYAUkahC4Cks8kaFRIrkMoNBDHu7DdngR2FNPm+T5k4hAAgCQtVAiQVjSgASVioEiCpaEThFtLxe/9RYRJC5RPS4QtvBN3Eq3UJ8SSdTdYcNknI+TcJPrtbVXmsmaxwtE5GRyWpTK49yQMgx5D2ae6Bce3Sq3160jHGzV8HDHpY8gmpbEYHMiAZGgGQAMlAwGCiehIrkCLGbfAj5w+TphrcYMS9iS6Vo/+UiUMIAJKwUCVAUtGIApCEhSq5hVTHuMetlyRyTiHVW0inkMmgl1vHkGrPT141MGzi1JNKSNtmCtj1pmTCchlTGtjVqDgP8KR9G/xyN2UGeVP6CEjbFtP1suWb+KTL+IREk5FFF8MMbtMljt+7jfMiKp5PT2qCG5cJSAb2gARIBgIGE9WTWIEUMW6DH+HuBkgmAgYjHnLINEf/KROHEAAkYaFKgKSiEYVfSGU8CZsnSItlKQEqXmrT+bjJAJeedI5pUwi3gJZp3iO4hHT843bYYUJxhjSNxGslwxSnif/cq/KDD2b79KRThbcZkyJYebL4ZMYzIGHgvvIBzLu1CaWvkiREMXJikgr4jO7WRnlbLiAZUAMSIBkIGEzgSb+BxPSQyl0WG7p0PIodhUxyzJYycQgBQBIWqgRIKhpRAJKwUCVAUtGIwi2kerH7uIAbofIJCRu6iBubJWzoYkCFyOQVJGzockUoetivxOfAvaPzAIiK4hQSNnS57GLbDK6EKLglw6CJN75+8iouPWXiEAKAJCxUCZBUNKIAJGGhSiokViCVGwhi3KofuX1O6pR4gIp7E1063/cpE4cQACRhoUqApKIRBSAJC1VyDYnj3FjE1Ww/XgK4xmUKEZCakDhzfFSSSuK6u8UISOwunRSQOnBYBUhMopMCUgcOqwCJSTTS7RGA7yqcjnoU4OtTQfNbLWXiEAKAJCxUCZBUNKIAJGGhSiokViCVGDdRzKM1wAiYkkU1EUAnOGoCzCR7EmfUZt99xkz+AaIHHx+X+Xp5AAAAAElFTkSuQmCC)\n",
        "\n",
        "Data setelah didapatkan input dan target:\n",
        "\n",
        "![image.png](data:image/png;base64,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)\n",
        "\n",
        "di mana Xi untuk i=1 s/d n, berisi data ke-(t-(n-i+1)). Y berisi data ke-t"
      ]
    },
    {
      "cell_type": "code",
      "metadata": {
        "id": "6a0f_rXfJWdh"
      },
      "source": [
        "# WARNING: disarankan penggunaan scaling hanya pada fungsi aktivasi tertentu yang range datanya tidak sesuai data asli seperti sigmoid\n",
        "# Scalling data\n",
        "from sklearn import preprocessing\n",
        "\n",
        "min_max_scaler = preprocessing.MinMaxScaler(feature_range=(0, 1))\n",
        "df_scale = min_max_scaler.fit_transform(df['Ekspor'].values.reshape(-1, 1))"
      ],
      "execution_count": null,
      "outputs": []
    },
    {
      "cell_type": "code",
      "metadata": {
        "id": "ANXhDUeDqxwM"
      },
      "source": [
        "# RUNNING INI JIKA TIDAK MENGGUNAKAN SCALING\r\n",
        "data = df['Ekspor'].values.reshape(-1, 1)"
      ],
      "execution_count": 11,
      "outputs": []
    },
    {
      "cell_type": "code",
      "metadata": {
        "colab": {
          "base_uri": "https://localhost:8080/"
        },
        "id": "VNpDzBxAwEjD",
        "outputId": "6597beda-5131-403c-ebb5-1131f89ded97"
      },
      "source": [
        "#Split data menjadi training dan testing\n",
        "# Contoh membagi data training hingga Desember 2018, dan testing dari Januari 2019 hingga September 2020\n",
        "test_size = 21\n",
        "train_size = len(data) - test_size\n",
        "train, test = data[0:train_size,:], data[train_size:len(data),:]\n",
        "print(len(train), len(test))"
      ],
      "execution_count": 13,
      "outputs": [
        {
          "output_type": "stream",
          "text": [
            "228 21\n"
          ],
          "name": "stdout"
        }
      ]
    },
    {
      "cell_type": "code",
      "metadata": {
        "id": "mn3i2r4nJgQ7"
      },
      "source": [
        "# Fungsi untuk membangun variabel input dan target\n",
        "def input_target(dataset, look_back):\n",
        "    dataX, dataY = [], []\n",
        "    for i in range(len(dataset)-look_back):\n",
        "        a = dataset[i:(i+look_back), 0]\n",
        "        dataX.append(a)\n",
        "        dataY.append(dataset[i + look_back, 0])\n",
        "    return np.array(dataX), np.array(dataY)"
      ],
      "execution_count": 14,
      "outputs": []
    },
    {
      "cell_type": "code",
      "metadata": {
        "colab": {
          "base_uri": "https://localhost:8080/"
        },
        "id": "qyuZ0tFjKKkL",
        "outputId": "90b93b6b-c29b-421b-fc7f-e1b69e5bdf3a"
      },
      "source": [
        "# Membangun data input dan target pada data yang kita miliki\n",
        "x_train, y_train = input_target(train, 1)\n",
        "x_test, y_test = input_target(test, 1)\n",
        "print(x_train.shape)\n",
        "print(y_train.shape)\n",
        "print(x_test.shape)\n",
        "print(y_test.shape)"
      ],
      "execution_count": 15,
      "outputs": [
        {
          "output_type": "stream",
          "text": [
            "(227, 1)\n",
            "(227,)\n",
            "(20, 1)\n",
            "(20,)\n"
          ],
          "name": "stdout"
        }
      ]
    },
    {
      "cell_type": "markdown",
      "metadata": {
        "id": "FQ74Gta5uXNk"
      },
      "source": [
        "# Multilayer Perceptron (MLP)"
      ]
    },
    {
      "cell_type": "code",
      "metadata": {
        "id": "j51YhRIbuXNl"
      },
      "source": [
        "#Import library yang dibutuhkan\n",
        "import tensorflow as tf\n",
        "from keras.layers import Dense, Input, Dropout\n",
        "from keras.optimizers import Adam\n",
        "from keras.models import Model\n",
        "from keras.models import load_model\n",
        "from keras.callbacks import ModelCheckpoint"
      ],
      "execution_count": 16,
      "outputs": []
    },
    {
      "cell_type": "code",
      "metadata": {
        "id": "Gqt1fLhwuXN3"
      },
      "source": [
        "#Mendefinisikan layer input sebagai (look_back, none)\n",
        "input_layer = Input(shape=(1,))"
      ],
      "execution_count": 17,
      "outputs": []
    },
    {
      "cell_type": "code",
      "metadata": {
        "id": "X3rlcvGnuXOK"
      },
      "source": [
        "#Dense layer di sini seperti hidden layer, contoh digunakan 1 hidden dengan 100 neuron\n",
        "dense1 = Dense(100, activation='relu')(input_layer)"
      ],
      "execution_count": 22,
      "outputs": []
    },
    {
      "cell_type": "code",
      "metadata": {
        "id": "do0U3XoHyHgP"
      },
      "source": [
        "#Mendefinisikan output layer\n",
        "output_layer = Dense(1, activation='linear')(dense1)"
      ],
      "execution_count": 23,
      "outputs": []
    },
    {
      "cell_type": "code",
      "metadata": {
        "id": "4dc6zLbRyd5h",
        "colab": {
          "base_uri": "https://localhost:8080/"
        },
        "outputId": "52737be5-4b92-4f62-8c66-af18cc58afee"
      },
      "source": [
        "#Membentuk model\n",
        "ts_model = Model(inputs=input_layer, outputs=output_layer)\n",
        "ts_model.compile(loss='mean_squared_error', optimizer='adam')\n",
        "ts_model.summary()"
      ],
      "execution_count": 24,
      "outputs": [
        {
          "output_type": "stream",
          "text": [
            "Model: \"model_1\"\n",
            "_________________________________________________________________\n",
            "Layer (type)                 Output Shape              Param #   \n",
            "=================================================================\n",
            "input_1 (InputLayer)         [(None, 1)]               0         \n",
            "_________________________________________________________________\n",
            "dense_2 (Dense)              (None, 100)               200       \n",
            "_________________________________________________________________\n",
            "dense_3 (Dense)              (None, 1)                 101       \n",
            "=================================================================\n",
            "Total params: 301\n",
            "Trainable params: 301\n",
            "Non-trainable params: 0\n",
            "_________________________________________________________________\n"
          ],
          "name": "stdout"
        }
      ]
    },
    {
      "cell_type": "code",
      "metadata": {
        "id": "DvDd5wIWylFL",
        "colab": {
          "base_uri": "https://localhost:8080/"
        },
        "outputId": "981eef61-b741-4704-996f-e1aec14844a6"
      },
      "source": [
        "#Running model pada data training\n",
        "save_path = \".\"\n",
        "save_weights_at=os.path.join('keras_model','Bobot_ekspor.hdf5')\n",
        "save_best=ModelCheckpoint(save_weights_at, monitor='val_loss',verbose=0,\n",
        "                          save_best_only=True,save_weights_only=False)\n",
        "ts_model.fit(x_train, y_train, batch_size=16, epochs=100,\n",
        "             verbose=1, callbacks=[save_best], validation_data=(x_train, y_train),\n",
        "             shuffle=True)\n",
        "ts_model.save(os.path.join(save_path,\"network.h5\"))"
      ],
      "execution_count": 25,
      "outputs": [
        {
          "output_type": "stream",
          "text": [
            "Epoch 1/100\n",
            "15/15 [==============================] - 0s 11ms/step - loss: 9631.9405 - val_loss: 6659.0093\n",
            "Epoch 2/100\n",
            "15/15 [==============================] - 0s 4ms/step - loss: 5693.8817 - val_loss: 3806.0366\n",
            "Epoch 3/100\n",
            "15/15 [==============================] - 0s 4ms/step - loss: 3367.5615 - val_loss: 1910.2069\n",
            "Epoch 4/100\n",
            "15/15 [==============================] - 0s 5ms/step - loss: 1672.2423 - val_loss: 817.9739\n",
            "Epoch 5/100\n",
            "15/15 [==============================] - 0s 4ms/step - loss: 637.6173 - val_loss: 272.9140\n",
            "Epoch 6/100\n",
            "15/15 [==============================] - 0s 4ms/step - loss: 206.3202 - val_loss: 66.2456\n",
            "Epoch 7/100\n",
            "15/15 [==============================] - 0s 4ms/step - loss: 51.4342 - val_loss: 13.8333\n",
            "Epoch 8/100\n",
            "15/15 [==============================] - 0s 13ms/step - loss: 9.4725 - val_loss: 7.1598\n",
            "Epoch 9/100\n",
            "15/15 [==============================] - 0s 5ms/step - loss: 9.5190 - val_loss: 7.1741\n",
            "Epoch 10/100\n",
            "15/15 [==============================] - 0s 4ms/step - loss: 6.5002 - val_loss: 7.1602\n",
            "Epoch 11/100\n",
            "15/15 [==============================] - 0s 4ms/step - loss: 8.5621 - val_loss: 7.0849\n",
            "Epoch 12/100\n",
            "15/15 [==============================] - 0s 4ms/step - loss: 5.3080 - val_loss: 7.0622\n",
            "Epoch 13/100\n",
            "15/15 [==============================] - 0s 4ms/step - loss: 6.1080 - val_loss: 7.0602\n",
            "Epoch 14/100\n",
            "15/15 [==============================] - 0s 5ms/step - loss: 7.3183 - val_loss: 7.1064\n",
            "Epoch 15/100\n",
            "15/15 [==============================] - 0s 4ms/step - loss: 6.7666 - val_loss: 7.0841\n",
            "Epoch 16/100\n",
            "15/15 [==============================] - 0s 5ms/step - loss: 6.2893 - val_loss: 7.0675\n",
            "Epoch 17/100\n",
            "15/15 [==============================] - 0s 4ms/step - loss: 6.9287 - val_loss: 7.0630\n",
            "Epoch 18/100\n",
            "15/15 [==============================] - 0s 4ms/step - loss: 6.4593 - val_loss: 7.0632\n",
            "Epoch 19/100\n",
            "15/15 [==============================] - 0s 4ms/step - loss: 6.6676 - val_loss: 7.0690\n",
            "Epoch 20/100\n",
            "15/15 [==============================] - 0s 4ms/step - loss: 7.8265 - val_loss: 7.0757\n",
            "Epoch 21/100\n",
            "15/15 [==============================] - 0s 4ms/step - loss: 5.1822 - val_loss: 7.0604\n",
            "Epoch 22/100\n",
            "15/15 [==============================] - 0s 4ms/step - loss: 5.2834 - val_loss: 7.0625\n",
            "Epoch 23/100\n",
            "15/15 [==============================] - 0s 4ms/step - loss: 6.1833 - val_loss: 7.0630\n",
            "Epoch 24/100\n",
            "15/15 [==============================] - 0s 4ms/step - loss: 8.7604 - val_loss: 7.1173\n",
            "Epoch 25/100\n",
            "15/15 [==============================] - 0s 4ms/step - loss: 8.3458 - val_loss: 7.0719\n",
            "Epoch 26/100\n",
            "15/15 [==============================] - 0s 4ms/step - loss: 7.3690 - val_loss: 7.0600\n",
            "Epoch 27/100\n",
            "15/15 [==============================] - 0s 4ms/step - loss: 6.5338 - val_loss: 7.0600\n",
            "Epoch 28/100\n",
            "15/15 [==============================] - 0s 4ms/step - loss: 8.8014 - val_loss: 7.0600\n",
            "Epoch 29/100\n",
            "15/15 [==============================] - 0s 4ms/step - loss: 7.2515 - val_loss: 7.0607\n",
            "Epoch 30/100\n",
            "15/15 [==============================] - 0s 4ms/step - loss: 5.2873 - val_loss: 7.0624\n",
            "Epoch 31/100\n",
            "15/15 [==============================] - 0s 5ms/step - loss: 6.0638 - val_loss: 7.0657\n",
            "Epoch 32/100\n",
            "15/15 [==============================] - 0s 4ms/step - loss: 6.5034 - val_loss: 7.0600\n",
            "Epoch 33/100\n",
            "15/15 [==============================] - 0s 4ms/step - loss: 6.4052 - val_loss: 7.0656\n",
            "Epoch 34/100\n",
            "15/15 [==============================] - 0s 4ms/step - loss: 7.8710 - val_loss: 7.0656\n",
            "Epoch 35/100\n",
            "15/15 [==============================] - 0s 4ms/step - loss: 9.3343 - val_loss: 7.0599\n",
            "Epoch 36/100\n",
            "15/15 [==============================] - 0s 4ms/step - loss: 7.7871 - val_loss: 7.0638\n",
            "Epoch 37/100\n",
            "15/15 [==============================] - 0s 4ms/step - loss: 8.2026 - val_loss: 7.0747\n",
            "Epoch 38/100\n",
            "15/15 [==============================] - 0s 4ms/step - loss: 9.3680 - val_loss: 7.0607\n",
            "Epoch 39/100\n",
            "15/15 [==============================] - 0s 13ms/step - loss: 5.9352 - val_loss: 7.0686\n",
            "Epoch 40/100\n",
            "15/15 [==============================] - 0s 4ms/step - loss: 5.4424 - val_loss: 7.0599\n",
            "Epoch 41/100\n",
            "15/15 [==============================] - 0s 5ms/step - loss: 9.6317 - val_loss: 7.0599\n",
            "Epoch 42/100\n",
            "15/15 [==============================] - 0s 4ms/step - loss: 7.0315 - val_loss: 7.0598\n",
            "Epoch 43/100\n",
            "15/15 [==============================] - 0s 5ms/step - loss: 6.4658 - val_loss: 7.0620\n",
            "Epoch 44/100\n",
            "15/15 [==============================] - 0s 4ms/step - loss: 6.2829 - val_loss: 7.0597\n",
            "Epoch 45/100\n",
            "15/15 [==============================] - 0s 4ms/step - loss: 8.2235 - val_loss: 7.0600\n",
            "Epoch 46/100\n",
            "15/15 [==============================] - 0s 4ms/step - loss: 5.5272 - val_loss: 7.0615\n",
            "Epoch 47/100\n",
            "15/15 [==============================] - 0s 4ms/step - loss: 6.4779 - val_loss: 7.1441\n",
            "Epoch 48/100\n",
            "15/15 [==============================] - 0s 4ms/step - loss: 8.5721 - val_loss: 7.0639\n",
            "Epoch 49/100\n",
            "15/15 [==============================] - 0s 4ms/step - loss: 7.9312 - val_loss: 7.0747\n",
            "Epoch 50/100\n",
            "15/15 [==============================] - 0s 4ms/step - loss: 8.7152 - val_loss: 7.0597\n",
            "Epoch 51/100\n",
            "15/15 [==============================] - 0s 4ms/step - loss: 5.8294 - val_loss: 7.1442\n",
            "Epoch 52/100\n",
            "15/15 [==============================] - 0s 5ms/step - loss: 6.8593 - val_loss: 7.0742\n",
            "Epoch 53/100\n",
            "15/15 [==============================] - 0s 4ms/step - loss: 6.1123 - val_loss: 7.0720\n",
            "Epoch 54/100\n",
            "15/15 [==============================] - 0s 4ms/step - loss: 7.7458 - val_loss: 7.1706\n",
            "Epoch 55/100\n",
            "15/15 [==============================] - 0s 4ms/step - loss: 5.8255 - val_loss: 7.0594\n",
            "Epoch 56/100\n",
            "15/15 [==============================] - 0s 4ms/step - loss: 7.7682 - val_loss: 7.0606\n",
            "Epoch 57/100\n",
            "15/15 [==============================] - 0s 5ms/step - loss: 9.6428 - val_loss: 7.0767\n",
            "Epoch 58/100\n",
            "15/15 [==============================] - 0s 5ms/step - loss: 9.6725 - val_loss: 7.0831\n",
            "Epoch 59/100\n",
            "15/15 [==============================] - 0s 4ms/step - loss: 6.7657 - val_loss: 7.0661\n",
            "Epoch 60/100\n",
            "15/15 [==============================] - 0s 4ms/step - loss: 6.6330 - val_loss: 7.0614\n",
            "Epoch 61/100\n",
            "15/15 [==============================] - 0s 4ms/step - loss: 8.8372 - val_loss: 7.0628\n",
            "Epoch 62/100\n",
            "15/15 [==============================] - 0s 4ms/step - loss: 7.0851 - val_loss: 7.0687\n",
            "Epoch 63/100\n",
            "15/15 [==============================] - 0s 4ms/step - loss: 7.2667 - val_loss: 7.0629\n",
            "Epoch 64/100\n",
            "15/15 [==============================] - 0s 13ms/step - loss: 6.2843 - val_loss: 7.0593\n",
            "Epoch 65/100\n",
            "15/15 [==============================] - 0s 5ms/step - loss: 7.5743 - val_loss: 7.0799\n",
            "Epoch 66/100\n",
            "15/15 [==============================] - 0s 4ms/step - loss: 6.9344 - val_loss: 7.0596\n",
            "Epoch 67/100\n",
            "15/15 [==============================] - 0s 5ms/step - loss: 6.2155 - val_loss: 7.0605\n",
            "Epoch 68/100\n",
            "15/15 [==============================] - 0s 5ms/step - loss: 6.1227 - val_loss: 7.0680\n",
            "Epoch 69/100\n",
            "15/15 [==============================] - 0s 5ms/step - loss: 7.6018 - val_loss: 7.0738\n",
            "Epoch 70/100\n",
            "15/15 [==============================] - 0s 4ms/step - loss: 5.3762 - val_loss: 7.0814\n",
            "Epoch 71/100\n",
            "15/15 [==============================] - 0s 5ms/step - loss: 6.6035 - val_loss: 7.0789\n",
            "Epoch 72/100\n",
            "15/15 [==============================] - 0s 4ms/step - loss: 6.2773 - val_loss: 7.1056\n",
            "Epoch 73/100\n",
            "15/15 [==============================] - 0s 5ms/step - loss: 5.8828 - val_loss: 7.0599\n",
            "Epoch 74/100\n",
            "15/15 [==============================] - 0s 4ms/step - loss: 6.8479 - val_loss: 7.0660\n",
            "Epoch 75/100\n",
            "15/15 [==============================] - 0s 4ms/step - loss: 5.6887 - val_loss: 7.0919\n",
            "Epoch 76/100\n",
            "15/15 [==============================] - 0s 4ms/step - loss: 6.8538 - val_loss: 7.0685\n",
            "Epoch 77/100\n",
            "15/15 [==============================] - 0s 4ms/step - loss: 6.3569 - val_loss: 7.0681\n",
            "Epoch 78/100\n",
            "15/15 [==============================] - 0s 4ms/step - loss: 6.6148 - val_loss: 7.0717\n",
            "Epoch 79/100\n",
            "15/15 [==============================] - 0s 5ms/step - loss: 6.4284 - val_loss: 7.0660\n",
            "Epoch 80/100\n",
            "15/15 [==============================] - 0s 4ms/step - loss: 6.9561 - val_loss: 7.0619\n",
            "Epoch 81/100\n",
            "15/15 [==============================] - 0s 4ms/step - loss: 9.9640 - val_loss: 7.0612\n",
            "Epoch 82/100\n",
            "15/15 [==============================] - 0s 5ms/step - loss: 5.1245 - val_loss: 7.0794\n",
            "Epoch 83/100\n",
            "15/15 [==============================] - 0s 4ms/step - loss: 5.0803 - val_loss: 7.0662\n",
            "Epoch 84/100\n",
            "15/15 [==============================] - 0s 5ms/step - loss: 7.5382 - val_loss: 7.0595\n",
            "Epoch 85/100\n",
            "15/15 [==============================] - 0s 4ms/step - loss: 6.4673 - val_loss: 7.0625\n",
            "Epoch 86/100\n",
            "15/15 [==============================] - 0s 5ms/step - loss: 7.3697 - val_loss: 7.0661\n",
            "Epoch 87/100\n",
            "15/15 [==============================] - 0s 4ms/step - loss: 5.6725 - val_loss: 7.0673\n",
            "Epoch 88/100\n",
            "15/15 [==============================] - 0s 5ms/step - loss: 6.0526 - val_loss: 7.1294\n",
            "Epoch 89/100\n",
            "15/15 [==============================] - 0s 4ms/step - loss: 7.7241 - val_loss: 7.0726\n",
            "Epoch 90/100\n",
            "15/15 [==============================] - 0s 6ms/step - loss: 5.7111 - val_loss: 7.0615\n",
            "Epoch 91/100\n",
            "15/15 [==============================] - 0s 4ms/step - loss: 8.0996 - val_loss: 7.0677\n",
            "Epoch 92/100\n",
            "15/15 [==============================] - 0s 4ms/step - loss: 5.5431 - val_loss: 7.1386\n",
            "Epoch 93/100\n",
            "15/15 [==============================] - 0s 4ms/step - loss: 8.1256 - val_loss: 7.1444\n",
            "Epoch 94/100\n",
            "15/15 [==============================] - 0s 5ms/step - loss: 5.9559 - val_loss: 7.0588\n",
            "Epoch 95/100\n",
            "15/15 [==============================] - 0s 4ms/step - loss: 8.9700 - val_loss: 7.0934\n",
            "Epoch 96/100\n",
            "15/15 [==============================] - 0s 5ms/step - loss: 7.8315 - val_loss: 7.0730\n",
            "Epoch 97/100\n",
            "15/15 [==============================] - 0s 4ms/step - loss: 5.8784 - val_loss: 7.0878\n",
            "Epoch 98/100\n",
            "15/15 [==============================] - 0s 4ms/step - loss: 7.5951 - val_loss: 7.0814\n",
            "Epoch 99/100\n",
            "15/15 [==============================] - 0s 4ms/step - loss: 5.4268 - val_loss: 7.0823\n",
            "Epoch 100/100\n",
            "15/15 [==============================] - 0s 5ms/step - loss: 6.6626 - val_loss: 7.0954\n"
          ],
          "name": "stdout"
        }
      ]
    },
    {
      "cell_type": "code",
      "metadata": {
        "id": "enYaGDXlzDty"
      },
      "source": [
        "#Prediksi data training dan testing berdasarkan bobot terbaik yang didapat\n",
        "best_model = load_model(os.path.join(save_path,\"network.h5\"))\n",
        "trainPredict = best_model.predict(x_train)\n",
        "testPredict = best_model.predict(x_test)\n",
        "\n",
        "#Re-shape data Y train dan testing agar dapat dikonversi menjadi data asli kembali\n",
        "y_tr=y_train.reshape(-1,1)\n",
        "y_ts=y_test.reshape(-1,1)\n",
        "\n",
        "#Konfersi data train dan test\n",
        "# HILANGKAN TANDA PAGAR DI BAWAH JIKA MENGGUNAKAN SCALING\n",
        "\n",
        "#trainPredict=min_max_scaler.inverse_transform(trainPredict)\n",
        "#y_train=min_max_scaler.inverse_transform(y_tr)\n",
        "#testPredict=min_max_scaler.inverse_transform(testPredict)\n",
        "#y_test=min_max_scaler.inverse_transform(y_ts)"
      ],
      "execution_count": 26,
      "outputs": []
    },
    {
      "cell_type": "code",
      "metadata": {
        "id": "1ottiWHJTifv",
        "colab": {
          "base_uri": "https://localhost:8080/"
        },
        "outputId": "8866f044-403f-476a-ba9a-8a6812d6e44d"
      },
      "source": [
        "#Melihat R-square dari data training dan testing\n",
        "#R-Square, RMSE, MSE, MAPE, dsb sering digunakan untuk kasus regresi, karena tidak dapat menggunakan akurasi, presisi, recall, dsb.\n",
        "from sklearn.metrics import r2_score\n",
        "\n",
        "r2tr = r2_score(y_train, trainPredict)\n",
        "print('R-squared data training:', round(r2tr,4)*100,\"%\")\n",
        "r2ts = r2_score(y_test, testPredict)\n",
        "print('R-squared data testing:', round(r2ts,4)*100,\"%\")"
      ],
      "execution_count": 27,
      "outputs": [
        {
          "output_type": "stream",
          "text": [
            "R-squared data training: 99.42999999999999 %\n",
            "R-squared data testing: 34.38 %\n"
          ],
          "name": "stdout"
        }
      ]
    },
    {
      "cell_type": "code",
      "metadata": {
        "id": "Y-bpnR6ZzvJC",
        "colab": {
          "base_uri": "https://localhost:8080/"
        },
        "outputId": "92e5cae6-2011-4bff-c128-17b31e4aa865"
      },
      "source": [
        "# Menghitung RMSE\n",
        "from sklearn import metrics\n",
        "\n",
        "score = np.sqrt(metrics.mean_squared_error(trainPredict,y_train))\n",
        "print(f\"RMSE data training: {score}\")\n",
        "score = np.sqrt(metrics.mean_squared_error(testPredict,y_test))\n",
        "print(f\"RMSE data testing: {score}\")"
      ],
      "execution_count": 28,
      "outputs": [
        {
          "output_type": "stream",
          "text": [
            "RMSE data training: 2.663713050295902\n",
            "RMSE data testing: 7.623844570598912\n"
          ],
          "name": "stdout"
        }
      ]
    },
    {
      "cell_type": "code",
      "metadata": {
        "id": "N7A4SAuWUrEV",
        "colab": {
          "base_uri": "https://localhost:8080/",
          "height": 264
        },
        "outputId": "e30b2f78-d91e-4f94-e8a1-741a193523be"
      },
      "source": [
        "#Memvisualisasi hasil prediksi vs. aktual\n",
        "\n",
        "look_back=1\n",
        "# shift train predictions for plotting\n",
        "trainPredictPlot = np.empty_like(data)\n",
        "trainPredictPlot[:, :] = np.nan\n",
        "trainPredictPlot[look_back:len(trainPredict)+look_back, :] = trainPredict\n",
        "# shift test predictions for plotting\n",
        "testPredictPlot = np.empty_like(data)\n",
        "testPredictPlot[:, :] = np.nan\n",
        "testPredictPlot[len(trainPredict)+(look_back*2):len(data), :] = testPredict\n",
        "# plot baseline and predictions\n",
        "plt.plot(df[['Ekspor']])\n",
        "plt.plot(trainPredictPlot)\n",
        "plt.plot(testPredictPlot)\n",
        "plt.show()\n"
      ],
      "execution_count": 29,
      "outputs": [
        {
          "output_type": "display_data",
          "data": {
            "image/png": "[encoded data removed]",
            "text/plain": [
              "<Figure size 432x288 with 1 Axes>"
            ]
          },
          "metadata": {
            "tags": [],
            "needs_background": "light"
          }
        }
      ]
    },
    {
      "cell_type": "code",
      "metadata": {
        "id": "5P23vkQHmhHl"
      },
      "source": [
        ""
      ],
      "execution_count": null,
      "outputs": []
    }
  ]
}